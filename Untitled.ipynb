{
 "cells": [
  {
   "cell_type": "code",
   "execution_count": 1,
   "metadata": {},
   "outputs": [
    {
     "name": "stderr",
     "output_type": "stream",
     "text": [
      "\n",
      "Bad key savefig.frameon in file C:\\Users\\User\\Anaconda3\\lib\\site-packages\\matplotlib\\mpl-data\\stylelib\\_classic_test.mplstyle, line 421 ('savefig.frameon : True')\n",
      "You probably need to get an updated matplotlibrc file from\n",
      "https://github.com/matplotlib/matplotlib/blob/v3.3.1/matplotlibrc.template\n",
      "or from the matplotlib source distribution\n",
      "\n",
      "Bad key verbose.level in file C:\\Users\\User\\Anaconda3\\lib\\site-packages\\matplotlib\\mpl-data\\stylelib\\_classic_test.mplstyle, line 472 ('verbose.level  : silent      # one of silent, helpful, debug, debug-annoying')\n",
      "You probably need to get an updated matplotlibrc file from\n",
      "https://github.com/matplotlib/matplotlib/blob/v3.3.1/matplotlibrc.template\n",
      "or from the matplotlib source distribution\n",
      "\n",
      "Bad key verbose.fileo in file C:\\Users\\User\\Anaconda3\\lib\\site-packages\\matplotlib\\mpl-data\\stylelib\\_classic_test.mplstyle, line 473 ('verbose.fileo  : sys.stdout  # a log filename, sys.stdout or sys.stderr')\n",
      "You probably need to get an updated matplotlibrc file from\n",
      "https://github.com/matplotlib/matplotlib/blob/v3.3.1/matplotlibrc.template\n",
      "or from the matplotlib source distribution\n",
      "In C:\\Users\\User\\Anaconda3\\lib\\site-packages\\matplotlib\\mpl-data\\stylelib\\_classic_test.mplstyle: \n",
      "The text.latex.preview rcparam was deprecated in Matplotlib 3.3 and will be removed two minor releases later.\n",
      "In C:\\Users\\User\\Anaconda3\\lib\\site-packages\\matplotlib\\mpl-data\\stylelib\\_classic_test.mplstyle: \n",
      "The mathtext.fallback_to_cm rcparam was deprecated in Matplotlib 3.3 and will be removed two minor releases later.\n",
      "In C:\\Users\\User\\Anaconda3\\lib\\site-packages\\matplotlib\\mpl-data\\stylelib\\_classic_test.mplstyle: Support for setting the 'mathtext.fallback_to_cm' rcParam is deprecated since 3.3 and will be removed two minor releases later; use 'mathtext.fallback : 'cm' instead.\n",
      "In C:\\Users\\User\\Anaconda3\\lib\\site-packages\\matplotlib\\mpl-data\\stylelib\\_classic_test.mplstyle: \n",
      "The validate_bool_maybe_none function was deprecated in Matplotlib 3.3 and will be removed two minor releases later.\n",
      "In C:\\Users\\User\\Anaconda3\\lib\\site-packages\\matplotlib\\mpl-data\\stylelib\\_classic_test.mplstyle: \n",
      "The savefig.jpeg_quality rcparam was deprecated in Matplotlib 3.3 and will be removed two minor releases later.\n",
      "In C:\\Users\\User\\Anaconda3\\lib\\site-packages\\matplotlib\\mpl-data\\stylelib\\_classic_test.mplstyle: \n",
      "The keymap.all_axes rcparam was deprecated in Matplotlib 3.3 and will be removed two minor releases later.\n",
      "In C:\\Users\\User\\Anaconda3\\lib\\site-packages\\matplotlib\\mpl-data\\stylelib\\_classic_test.mplstyle: \n",
      "The animation.avconv_path rcparam was deprecated in Matplotlib 3.3 and will be removed two minor releases later.\n",
      "In C:\\Users\\User\\Anaconda3\\lib\\site-packages\\matplotlib\\mpl-data\\stylelib\\_classic_test.mplstyle: \n",
      "The animation.avconv_args rcparam was deprecated in Matplotlib 3.3 and will be removed two minor releases later.\n"
     ]
    }
   ],
   "source": [
    "import numpy as np\n",
    "import pandas as pd\n",
    "import math\n",
    "import matplotlib.pyplot as plt"
   ]
  },
  {
   "cell_type": "code",
   "execution_count": 2,
   "metadata": {},
   "outputs": [],
   "source": [
    "M=2*10**30\n",
    "R=np.array([7*10**8,1.5*10**11,3*10**13])\n",
    "G=6.67*10**-11\n",
    "a=(2*G*M/R)**0.5"
   ]
  },
  {
   "cell_type": "code",
   "execution_count": 3,
   "metadata": {},
   "outputs": [
    {
     "name": "stdout",
     "output_type": "stream",
     "text": [
      "[617367.68391523  42174.24174383   2982.16923285]\n"
     ]
    }
   ],
   "source": [
    "print(a)"
   ]
  },
  {
   "cell_type": "code",
   "execution_count": 9,
   "metadata": {},
   "outputs": [
    {
     "name": "stdout",
     "output_type": "stream",
     "text": [
      "1.000000000329389\n"
     ]
    }
   ],
   "source": [
    "print(1/((1-(7.7/300000)**2))**0.5)"
   ]
  },
  {
   "cell_type": "code",
   "execution_count": 24,
   "metadata": {},
   "outputs": [
    {
     "data": {
      "text/plain": [
       "(array([ 0.1       ,  0.25050505,  0.4010101 ,  0.55151515,  0.7020202 ,\n",
       "         0.85252525,  1.0030303 ,  1.15353535,  1.3040404 ,  1.45454545,\n",
       "         1.60505051,  1.75555556,  1.90606061,  2.05656566,  2.20707071,\n",
       "         2.35757576,  2.50808081,  2.65858586,  2.80909091,  2.95959596,\n",
       "         3.11010101,  3.26060606,  3.41111111,  3.56161616,  3.71212121,\n",
       "         3.86262626,  4.01313131,  4.16363636,  4.31414141,  4.46464646,\n",
       "         4.61515152,  4.76565657,  4.91616162,  5.06666667,  5.21717172,\n",
       "         5.36767677,  5.51818182,  5.66868687,  5.81919192,  5.96969697,\n",
       "         6.12020202,  6.27070707,  6.42121212,  6.57171717,  6.72222222,\n",
       "         6.87272727,  7.02323232,  7.17373737,  7.32424242,  7.47474747,\n",
       "         7.62525253,  7.77575758,  7.92626263,  8.07676768,  8.22727273,\n",
       "         8.37777778,  8.52828283,  8.67878788,  8.82929293,  8.97979798,\n",
       "         9.13030303,  9.28080808,  9.43131313,  9.58181818,  9.73232323,\n",
       "         9.88282828, 10.03333333, 10.18383838, 10.33434343, 10.48484848,\n",
       "        10.63535354, 10.78585859, 10.93636364, 11.08686869, 11.23737374,\n",
       "        11.38787879, 11.53838384, 11.68888889, 11.83939394, 11.98989899,\n",
       "        12.14040404, 12.29090909, 12.44141414, 12.59191919, 12.74242424,\n",
       "        12.89292929, 13.04343434, 13.19393939, 13.34444444, 13.49494949,\n",
       "        13.64545455, 13.7959596 , 13.94646465, 14.0969697 , 14.24747475,\n",
       "        14.3979798 , 14.54848485, 14.6989899 , 14.84949495, 15.        ]),\n",
       " array([1.24597296e-129, 3.70947943e-051, 1.37514122e-031, 1.06376675e-022,\n",
       "        1.27104718e-017, 2.44779299e-014, 4.87155634e-012, 2.43588372e-010,\n",
       "        4.93659592e-009, 5.36650790e-008, 3.72815828e-007, 1.85691578e-006,\n",
       "        7.17393423e-006, 2.27277423e-005, 6.14842581e-005, 1.46375963e-004,\n",
       "        3.13779615e-004, 6.16496006e-004, 1.12574814e-003, 1.93189974e-003,\n",
       "        3.14381022e-003, 4.88693083e-003, 7.30037962e-003, 1.05333032e-002,\n",
       "        1.47408494e-002, 2.00800492e-002, 2.67058582e-002, 3.47675476e-002,\n",
       "        4.44055713e-002, 5.57489844e-002, 6.89134372e-002, 8.39997354e-002,\n",
       "        1.01092932e-001, 1.20261892e-001, 1.41559280e-001, 1.65021881e-001,\n",
       "        1.90671216e-001, 2.18514366e-001, 2.48544962e-001, 2.80744277e-001,\n",
       "        3.15082400e-001, 3.51519416e-001, 3.90006611e-001, 4.30487629e-001,\n",
       "        4.72899603e-001, 5.17174219e-001, 5.63238719e-001, 6.11016826e-001,\n",
       "        6.60429600e-001, 7.11396209e-001, 7.63834627e-001, 8.17662260e-001,\n",
       "        8.72796492e-001, 9.29155174e-001, 9.86657042e-001, 1.04522208e+000,\n",
       "        1.10477181e+000, 1.16522958e+000, 1.22652075e+000, 1.28857288e+000,\n",
       "        1.35131585e+000, 1.41468197e+000, 1.47860604e+000, 1.54302544e+000,\n",
       "        1.60788010e+000, 1.67311255e+000, 1.73866790e+000, 1.80449380e+000,\n",
       "        1.87054042e+000, 1.93676041e+000, 2.00310884e+000, 2.06954313e+000,\n",
       "        2.13602301e+000, 2.20251042e+000, 2.26896946e+000, 2.33536632e+000,\n",
       "        2.40166918e+000, 2.46784813e+000, 2.53387514e+000, 2.59972394e+000,\n",
       "        2.66536994e+000, 2.73079020e+000, 2.79596330e+000, 2.86086930e+000,\n",
       "        2.92548969e+000, 2.98980727e+000, 3.05380613e+000, 3.11747154e+000,\n",
       "        3.18078996e+000, 3.24374890e+000, 3.30633690e+000, 3.36854351e+000,\n",
       "        3.43035916e+000, 3.49177517e+000, 3.55278369e+000, 3.61337764e+000,\n",
       "        3.67355066e+000, 3.73329711e+000, 3.79261198e+000, 3.85149088e+000]))"
      ]
     },
     "execution_count": 24,
     "metadata": {},
     "output_type": "execute_result"
    },
    {
     "data": {
      "image/png": "[encoded data removed]",
      "text/plain": [
       "<Figure size 432x288 with 1 Axes>"
      ]
     },
     "metadata": {
      "needs_background": "light"
     },
     "output_type": "display_data"
    }
   ],
   "source": [
    "h=6.626*10**-34\n",
    "c=3*10**8\n",
    "k=1.38*10**-23\n",
    "lb1300=1300*10**-6\n",
    "lb350=350*10**-6\n",
    "T=np.linspace(0.1,15,100)\n",
    "B350=2*h*c**-2*(c/lb350)**3/(np.exp(h*(c/lb350)/k/T)-1)\n",
    "B1300=2*h*c**-2*(c/lb1300)**3/(np.exp(h*(c/lb1300)/k/T)-1)\n",
    "# B350/B1300\n",
    "plt.plot(T,B350/B1300)\n",
    "T,B350/B1300"
   ]
  },
  {
   "cell_type": "code",
   "execution_count": 20,
   "metadata": {},
   "outputs": [
    {
     "data": {
      "text/plain": [
       "3.885207100591716"
      ]
     },
     "execution_count": 20,
     "metadata": {},
     "output_type": "execute_result"
    }
   ],
   "source": [
    "# 350**2*45/1300**2/2\n",
    "350**2*67/1300**2/1.25"
   ]
  },
  {
   "cell_type": "code",
   "execution_count": 12,
   "metadata": {},
   "outputs": [
    {
     "data": {
      "text/plain": [
       "3.7742645796432086"
      ]
     },
     "execution_count": 12,
     "metadata": {},
     "output_type": "execute_result"
    }
   ],
   "source": [
    "h=6.626*10**-34\n",
    "k=1.38*10**-23\n",
    "B=5.7*10**10\n",
    "a=h*B/k/10\n",
    "J=np.array([1,2,3,4,5,6,7,8,9,10,11,12,13,14,15,16,17,18,19,20])\n",
    "a*(2*J+1)**2-2,a/10*(2*J+1)**2-2\n",
    "(np.sqrt(2/a*10)-1)/2"
   ]
  },
  {
   "cell_type": "code",
   "execution_count": 17,
   "metadata": {},
   "outputs": [
    {
     "data": {
      "text/plain": [
       "array([ 0.        ,  5.53469108, 16.60386005, 33.20708055, 55.34371301,\n",
       "       83.01290472])"
      ]
     },
     "execution_count": 17,
     "metadata": {},
     "output_type": "execute_result"
    }
   ],
   "source": [
    "B=57.6360*10**9\n",
    "D=0.185*10**6\n",
    "J=np.array([0,1,2,3,4,5])\n",
    "(B*h*J*(J+1)-h*D*J*J*(J+1)**2)/k\n",
    "# 2*B*(J+1)-4*(J+1)**3\n"
   ]
  },
  {
   "cell_type": "code",
   "execution_count": 42,
   "metadata": {},
   "outputs": [],
   "source": [
    "a=2/45\n",
    "a1=1.25/67\n",
    "b=350/1300\n",
    "x=np.log(a)/np.log(b)-2\n",
    "x1=np.log(a1)/np.log(b)-2"
   ]
  },
  {
   "cell_type": "code",
   "execution_count": 43,
   "metadata": {},
   "outputs": [
    {
     "name": "stdout",
     "output_type": "stream",
     "text": [
      "0.37276909392682933 1.0342862123525731\n"
     ]
    }
   ],
   "source": [
    "print(x,x1)"
   ]
  },
  {
   "cell_type": "code",
   "execution_count": 97,
   "metadata": {},
   "outputs": [],
   "source": [
    "F=2000\n",
    "d=0.5\n",
    "T=17\n",
    "ld=1.3"
   ]
  },
  {
   "cell_type": "code",
   "execution_count": 98,
   "metadata": {},
   "outputs": [
    {
     "data": {
      "text/plain": [
       "248.62894720232592"
      ]
     },
     "execution_count": 98,
     "metadata": {},
     "output_type": "execute_result"
    }
   ],
   "source": [
    "m=(1.738*10**-2)*F*(d**2)*(T**-1)*(ld**2)*(ld/0.25)**x\n",
    "m\n",
    "T=(1.738*10**-2)*F*(d**2)*(ld**2)*(ld/0.25)**2/m\n",
    "T"
   ]
  },
  {
   "cell_type": "code",
   "execution_count": 99,
   "metadata": {},
   "outputs": [],
   "source": [
    "F=45000\n",
    "d=0.5\n",
    "T=17\n",
    "ld=0.35"
   ]
  },
  {
   "cell_type": "code",
   "execution_count": 100,
   "metadata": {},
   "outputs": [
    {
     "data": {
      "text/plain": [
       "29.39225976908557"
      ]
     },
     "execution_count": 100,
     "metadata": {},
     "output_type": "execute_result"
    }
   ],
   "source": [
    "m=(1.738*10**-2)*F*(d**2)*(T**-1)*(ld**2)*(ld/0.25)**x\n",
    "m\n",
    "T=(1.738*10**-2)*F*(d**2)*(ld**2)*(ld/0.25)**2/m\n",
    "T"
   ]
  },
  {
   "cell_type": "code",
   "execution_count": 101,
   "metadata": {},
   "outputs": [],
   "source": [
    "F=1250\n",
    "d=0.5\n",
    "T=17\n",
    "ld=1.3"
   ]
  },
  {
   "cell_type": "code",
   "execution_count": 102,
   "metadata": {},
   "outputs": [
    {
     "data": {
      "text/plain": [
       "83.54168341819968"
      ]
     },
     "execution_count": 102,
     "metadata": {},
     "output_type": "execute_result"
    }
   ],
   "source": [
    "m=(1.738*10**-2)*F*(d**2)*(T**-1)*(ld**2)*(ld/0.25)**x1\n",
    "m\n",
    "T=(1.738*10**-2)*F*(d**2)*(ld**2)*(ld/0.25)**2/m\n",
    "T"
   ]
  },
  {
   "cell_type": "code",
   "execution_count": 103,
   "metadata": {},
   "outputs": [],
   "source": [
    "F=67000\n",
    "d=0.5\n",
    "T=17\n",
    "ld=0.35"
   ]
  },
  {
   "cell_type": "code",
   "execution_count": 104,
   "metadata": {},
   "outputs": [
    {
     "data": {
      "text/plain": [
       "23.52701233576473"
      ]
     },
     "execution_count": 104,
     "metadata": {},
     "output_type": "execute_result"
    }
   ],
   "source": [
    "m=(1.738*10**-2)*F*(d**2)*(T**-1)*(ld**2)*(ld/0.25)**x1\n",
    "m\n",
    "T=(1.738*10**-2)*F*(d**2)*(ld**2)*(ld/0.25)**2/m\n",
    "T"
   ]
  },
  {
   "cell_type": "code",
   "execution_count": 95,
   "metadata": {},
   "outputs": [
    {
     "data": {
      "text/plain": [
       "1.4932247351707757e+17"
      ]
     },
     "execution_count": 95,
     "metadata": {},
     "output_type": "execute_result"
    }
   ],
   "source": [
    "cm=3.08*10**18\n",
    "20*0.5/206.265*cm"
   ]
  },
  {
   "cell_type": "code",
   "execution_count": 96,
   "metadata": {},
   "outputs": [],
   "source": [
    "ms=1.989*10**30\n",
    "mh=3.34*10**-27\n",
    "d=4.853*10**16\n",
    "d1=0.7465*10**17"
   ]
  },
  {
   "cell_type": "code",
   "execution_count": 61,
   "metadata": {},
   "outputs": [],
   "source": [
    "n=1.597*ms/mh/(4/3*np.pi*d**3)\n",
    "n1=2.971*ms/mh/(4/3*np.pi*d1**3)"
   ]
  },
  {
   "cell_type": "code",
   "execution_count": 62,
   "metadata": {},
   "outputs": [
    {
     "name": "stdout",
     "output_type": "stream",
     "text": [
      "1986432.212351285 1015343.335701683\n"
     ]
    }
   ],
   "source": [
    "print(n,n1)"
   ]
  },
  {
   "cell_type": "code",
   "execution_count": 5,
   "metadata": {},
   "outputs": [
    {
     "data": {
      "text/plain": [
       "0.999896315728952"
      ]
     },
     "execution_count": 5,
     "metadata": {},
     "output_type": "execute_result"
    }
   ],
   "source": [
    "a=2.718\n",
    "np.log(a)"
   ]
  },
  {
   "cell_type": "code",
   "execution_count": 28,
   "metadata": {},
   "outputs": [],
   "source": [
    "a=7.46*10**23/1.55/10**24*100*3*160/1.3**4\n",
    "u=14.4/1300/160\n",
    "c=(math.e**u-1)/u"
   ]
  },
  {
   "cell_type": "code",
   "execution_count": 4,
   "metadata": {},
   "outputs": [
    {
     "data": {
      "text/plain": [
       "((1, 2, 3, 4), (1, 2, 3, 4))"
      ]
     },
     "execution_count": 4,
     "metadata": {},
     "output_type": "execute_result"
    }
   ],
   "source": [
    "a=1,2,3,4\n",
    "a=a,a\n",
    "a"
   ]
  },
  {
   "cell_type": "code",
   "execution_count": 29,
   "metadata": {},
   "outputs": [
    {
     "data": {
      "text/plain": [
       "8088.34978142923"
      ]
     },
     "execution_count": 29,
     "metadata": {},
     "output_type": "execute_result"
    }
   ],
   "source": [
    "x=a/c\n",
    "x"
   ]
  },
  {
   "cell_type": "code",
   "execution_count": 36,
   "metadata": {},
   "outputs": [
    {
     "data": {
      "text/plain": [
       "0.013586956521739132"
      ]
     },
     "execution_count": 36,
     "metadata": {},
     "output_type": "execute_result"
    }
   ],
   "source": [
    "c=1/73.6"
   ]
  },
  {
   "cell_type": "code",
   "execution_count": 45,
   "metadata": {},
   "outputs": [
    {
     "data": {
      "text/plain": [
       "136.69784309982816"
      ]
     },
     "execution_count": 45,
     "metadata": {},
     "output_type": "execute_result"
    }
   ],
   "source": [
    "T=c*x*1.3*1.3/10/10\n",
    "T"
   ]
  },
  {
   "cell_type": "code",
   "execution_count": 41,
   "metadata": {},
   "outputs": [
    {
     "data": {
      "text/plain": [
       "0.854361519373926"
      ]
     },
     "execution_count": 41,
     "metadata": {},
     "output_type": "execute_result"
    }
   ],
   "source": [
    "T/160"
   ]
  },
  {
   "cell_type": "code",
   "execution_count": 44,
   "metadata": {},
   "outputs": [
    {
     "data": {
      "text/plain": [
       "1.3539063367041477"
      ]
     },
     "execution_count": 44,
     "metadata": {},
     "output_type": "execute_result"
    }
   ],
   "source": [
    "((1.3**4)/0.85)**(1/4)"
   ]
  },
  {
   "cell_type": "code",
   "execution_count": null,
   "metadata": {},
   "outputs": [],
   "source": []
  },
  {
   "cell_type": "code",
   "execution_count": 32,
   "metadata": {},
   "outputs": [
    {
     "data": {
      "text/plain": [
       "0.025920880721502972"
      ]
     },
     "execution_count": 32,
     "metadata": {},
     "output_type": "execute_result"
    }
   ],
   "source": [
    "0.377*x/1000*1.3*1.3/14.1/14.1"
   ]
  },
  {
   "cell_type": "code",
   "execution_count": 35,
   "metadata": {},
   "outputs": [
    {
     "data": {
      "text/plain": [
       "5.153330296242005e-06"
      ]
     },
     "execution_count": 35,
     "metadata": {},
     "output_type": "execute_result"
    }
   ],
   "source": [
    "0.377*x/1000*0.013*0.013/10/10"
   ]
  },
  {
   "cell_type": "code",
   "execution_count": 10,
   "metadata": {},
   "outputs": [
    {
     "data": {
      "text/plain": [
       "1917874.6659839724"
      ]
     },
     "execution_count": 10,
     "metadata": {},
     "output_type": "execute_result"
    }
   ],
   "source": [
    "(0.9/0.3045/(8.3*10**3)**-0.643)**(1/0.476)"
   ]
  },
  {
   "cell_type": "code",
   "execution_count": 11,
   "metadata": {},
   "outputs": [
    {
     "data": {
      "text/plain": [
       "0.0031325301204819275"
      ]
     },
     "execution_count": 11,
     "metadata": {},
     "output_type": "execute_result"
    }
   ],
   "source": [
    "26/8300\n"
   ]
  },
  {
   "cell_type": "code",
   "execution_count": 14,
   "metadata": {},
   "outputs": [],
   "source": [
    "em=3.13*10**-3/(8.235*10**-2)/(8.3*10**3)**-1.35/(23**-2.1)"
   ]
  },
  {
   "cell_type": "code",
   "execution_count": 15,
   "metadata": {},
   "outputs": [
    {
     "data": {
      "text/plain": [
       "1.4696910180683305"
      ]
     },
     "execution_count": 15,
     "metadata": {},
     "output_type": "execute_result"
    }
   ],
   "source": [
    "(0.3045*8300**-0.643)*(em)**(0.476)"
   ]
  },
  {
   "cell_type": "code",
   "execution_count": 16,
   "metadata": {},
   "outputs": [
    {
     "data": {
      "text/plain": [
       "2.265545523178945"
      ]
     },
     "execution_count": 16,
     "metadata": {},
     "output_type": "execute_result"
    }
   ],
   "source": [
    "(8.235*10**-2)*(8.3*10**3)**-1.35*em"
   ]
  },
  {
   "cell_type": "code",
   "execution_count": 20,
   "metadata": {},
   "outputs": [
    {
     "data": {
      "text/plain": [
       "([0.07730166496488723,\n",
       "  0.018031250928241187,\n",
       "  0.003136154152413737,\n",
       "  0.00017869672260033254,\n",
       "  6.112715922132868e-05,\n",
       "  2.4911357917100284e-05],\n",
       " [641.603819208564,\n",
       "  149.65938270440185,\n",
       "  26.030079465034017,\n",
       "  1.48318279758276,\n",
       "  0.5073554215370281,\n",
       "  0.20676427071193235])"
      ]
     },
     "execution_count": 20,
     "metadata": {},
     "output_type": "execute_result"
    }
   ],
   "source": [
    "v=[5,10,23,90,150,230]\n",
    "t=[]\n",
    "T=[]\n",
    "for i in v:\n",
    "    a=2.27*i**-2.1\n",
    "    t.append(a)\n",
    "    a=a*8300\n",
    "    T.append(a)\n",
    "t,T\n"
   ]
  },
  {
   "cell_type": "code",
   "execution_count": 23,
   "metadata": {},
   "outputs": [
    {
     "name": "stdout",
     "output_type": "stream",
     "text": [
      "0.0\n",
      "0.0\n",
      "1.0\n",
      "1.0\n",
      "4.0\n",
      "4.0\n",
      "10.0\n",
      "10.0\n",
      "20.0\n",
      "20.0\n",
      "35.0\n",
      "35.0\n",
      "56.0\n",
      "56.0\n",
      "84.0\n",
      "84.0\n",
      "120.0\n",
      "120.0\n",
      "165.0\n",
      "165.0\n"
     ]
    }
   ],
   "source": [
    "for i in range(10):\n",
    "    print(i*(i+1)*(2*i+1)/6/2+i*(i+1)/2/2)\n",
    "    print(i*(i+1)*(i+2)/6)"
   ]
  },
  {
   "cell_type": "code",
   "execution_count": 18,
   "metadata": {},
   "outputs": [
    {
     "name": "stdout",
     "output_type": "stream",
     "text": [
      "0\n"
     ]
    }
   ],
   "source": [
    "a=0\n",
    "for i in range(1):\n",
    "     for j in range(i):\n",
    "        for k in range(j):\n",
    "            print(1)\n",
    "                \n",
    "\n",
    "print(a)"
   ]
  },
  {
   "cell_type": "code",
   "execution_count": 19,
   "metadata": {},
   "outputs": [],
   "source": [
    "for i in range(0):\n",
    "    print(1)"
   ]
  },
  {
   "cell_type": "code",
   "execution_count": 3,
   "metadata": {},
   "outputs": [
    {
     "data": {
      "text/plain": [
       "array([0.1 , 0.31, 0.52, 0.73, 0.94, 1.15, 1.36, 1.57, 1.78, 1.99, 2.2 ])"
      ]
     },
     "execution_count": 3,
     "metadata": {},
     "output_type": "execute_result"
    }
   ],
   "source": [
    "c=np.linspace(0.1,2.2,11)\n",
    "c"
   ]
  },
  {
   "cell_type": "code",
   "execution_count": 1,
   "metadata": {},
   "outputs": [
    {
     "data": {
      "text/plain": [
       "3"
      ]
     },
     "execution_count": 1,
     "metadata": {},
     "output_type": "execute_result"
    }
   ],
   "source": [
    "a=3\n",
    "a"
   ]
  },
  {
   "cell_type": "code",
   "execution_count": 30,
   "metadata": {},
   "outputs": [
    {
     "name": "stdout",
     "output_type": "stream",
     "text": [
      "1.2061133081917316e-24\n",
      "2.76e-22 7.63785646e-23 0.27673392971014493\n",
      "6.978254541921729e-29\n",
      "1.38e-22 3.18048e-24 0.02304695652173913\n"
     ]
    }
   ],
   "source": [
    "h=6.626*10**-34\n",
    "c=3*10**8\n",
    "k=1.38*10**-23\n",
    "v=115.271*10**9\n",
    "T=20\n",
    "AB=8*np.pi*h*v**3*(1+(h*v/k/T))/c**3\n",
    "print(AB)\n",
    "print(k*T,h*v,1/(k*T/h/v))\n",
    "v=4.8*10**9\n",
    "T=10\n",
    "AB=8*np.pi*h*v**3*(1+(h*v/k/T))/c**3\n",
    "print(AB)\n",
    "print(k*T,h*v,1/(k*T/h/v))"
   ]
  },
  {
   "cell_type": "code",
   "execution_count": 50,
   "metadata": {},
   "outputs": [
    {
     "data": {
      "text/plain": [
       "43250.61234679409"
      ]
     },
     "execution_count": 50,
     "metadata": {},
     "output_type": "execute_result"
    }
   ],
   "source": [
    "v=115.271*10**9\n",
    "\n",
    "t0=h*v/k\n",
    "\n",
    "tk=100\n",
    "tb=2.73\n",
    "# t0=4.28\n",
    "tex=3.5\n",
    "k21=10**-10\n",
    "A21=3*10**-5\n",
    "(tk*tb*A21-tex*tk*A21)/(-tk*t0*k21+tex*t0*k21)"
   ]
  },
  {
   "cell_type": "code",
   "execution_count": 54,
   "metadata": {},
   "outputs": [
    {
     "data": {
      "text/plain": [
       "81.22536442113453"
      ]
     },
     "execution_count": 54,
     "metadata": {},
     "output_type": "execute_result"
    }
   ],
   "source": [
    "n=7.4*10**2\n",
    "n=5.59*10**4\n",
    "A21=7.4*10**-8\n",
    "tk*(t0*n*k21+tb*A21)/(t0*n*k21+tk*A21)"
   ]
  },
  {
   "cell_type": "code",
   "execution_count": 29,
   "metadata": {},
   "outputs": [
    {
     "name": "stdout",
     "output_type": "stream",
     "text": [
      "6.821050096905738e-29\n",
      "3.141592653589793\n"
     ]
    }
   ],
   "source": [
    "AB=8*np.pi*h*v**3*(1)/c**3\n",
    "print(AB)"
   ]
  },
  {
   "cell_type": "code",
   "execution_count": null,
   "metadata": {},
   "outputs": [],
   "source": []
  },
  {
   "cell_type": "code",
   "execution_count": 9,
   "metadata": {},
   "outputs": [
    {
     "name": "stdout",
     "output_type": "stream",
     "text": [
      "6.984492457537615e-20\n"
     ]
    }
   ],
   "source": [
    "B=2*h*v**3/c**2*(1/(np.exp(h*v/k/T)-1))\n",
    "print(B)"
   ]
  },
  {
   "cell_type": "code",
   "execution_count": 5,
   "metadata": {},
   "outputs": [],
   "source": [
    "# x=[i for i in range(10)]\n",
    "def test(x=[],a=[1,2],b=[3,4],c=['a','b','c']):\n",
    "#     for i in range(len(x)):\n",
    "        \n",
    "#     for j in range(len(x)):\n",
    "#         print (x[j])\n",
    "#     for i in c:\n",
    "#         print(i)\n",
    "#     print(c)\n",
    "\n",
    "    \n",
    "    return x"
   ]
  },
  {
   "cell_type": "code",
   "execution_count": 6,
   "metadata": {},
   "outputs": [
    {
     "data": {
      "text/html": [
       "<div>\n",
       "<style scoped>\n",
       "    .dataframe tbody tr th:only-of-type {\n",
       "        vertical-align: middle;\n",
       "    }\n",
       "\n",
       "    .dataframe tbody tr th {\n",
       "        vertical-align: top;\n",
       "    }\n",
       "\n",
       "    .dataframe thead th {\n",
       "        text-align: right;\n",
       "    }\n",
       "</style>\n",
       "<table border=\"1\" class=\"dataframe\">\n",
       "  <thead>\n",
       "    <tr style=\"text-align: right;\">\n",
       "      <th></th>\n",
       "      <th>0</th>\n",
       "    </tr>\n",
       "  </thead>\n",
       "  <tbody>\n",
       "    <tr>\n",
       "      <th>0</th>\n",
       "      <td>0</td>\n",
       "    </tr>\n",
       "    <tr>\n",
       "      <th>1</th>\n",
       "      <td>2</td>\n",
       "    </tr>\n",
       "    <tr>\n",
       "      <th>2</th>\n",
       "      <td>4</td>\n",
       "    </tr>\n",
       "    <tr>\n",
       "      <th>3</th>\n",
       "      <td>6</td>\n",
       "    </tr>\n",
       "    <tr>\n",
       "      <th>4</th>\n",
       "      <td>8</td>\n",
       "    </tr>\n",
       "    <tr>\n",
       "      <th>5</th>\n",
       "      <td>10</td>\n",
       "    </tr>\n",
       "    <tr>\n",
       "      <th>6</th>\n",
       "      <td>12</td>\n",
       "    </tr>\n",
       "    <tr>\n",
       "      <th>7</th>\n",
       "      <td>14</td>\n",
       "    </tr>\n",
       "    <tr>\n",
       "      <th>8</th>\n",
       "      <td>16</td>\n",
       "    </tr>\n",
       "    <tr>\n",
       "      <th>9</th>\n",
       "      <td>18</td>\n",
       "    </tr>\n",
       "  </tbody>\n",
       "</table>\n",
       "</div>"
      ],
      "text/plain": [
       "    0\n",
       "0   0\n",
       "1   2\n",
       "2   4\n",
       "3   6\n",
       "4   8\n",
       "5  10\n",
       "6  12\n",
       "7  14\n",
       "8  16\n",
       "9  18"
      ]
     },
     "execution_count": 6,
     "metadata": {},
     "output_type": "execute_result"
    }
   ],
   "source": [
    "y=[2*i for i in range(10)]\n",
    "grid_df=pd.DataFrame(data=y)\n",
    "test(x=grid_df)"
   ]
  },
  {
   "cell_type": "code",
   "execution_count": 21,
   "metadata": {},
   "outputs": [
    {
     "name": "stdout",
     "output_type": "stream",
     "text": [
      "[1 2 3] [2 3 4] [3 4 5] [4 5 6] [array([1, 2, 3]), array([2, 3, 4]), array([3, 4, 5]), array([4, 5, 6])]\n"
     ]
    }
   ],
   "source": [
    "x=[1,2,3]\n",
    "a=np.array(x)\n",
    "\n",
    "b=a+1\n",
    "c=a+2\n",
    "d=a+3\n",
    "e=[a,b,c,d]\n",
    "print(a,b,c,d,e)"
   ]
  },
  {
   "cell_type": "code",
   "execution_count": 39,
   "metadata": {},
   "outputs": [
    {
     "ename": "SyntaxError",
     "evalue": "invalid syntax (<ipython-input-39-7bcf91544f26>, line 2)",
     "output_type": "error",
     "traceback": [
      "\u001b[1;36m  File \u001b[1;32m\"<ipython-input-39-7bcf91544f26>\"\u001b[1;36m, line \u001b[1;32m2\u001b[0m\n\u001b[1;33m    mean=np.mean([j[i]*2 (for j in e && e.index(j)%2==0)])\u001b[0m\n\u001b[1;37m                            ^\u001b[0m\n\u001b[1;31mSyntaxError\u001b[0m\u001b[1;31m:\u001b[0m invalid syntax\n"
     ]
    }
   ],
   "source": [
    "for i in range(len(e[0])):\n",
    "    mean=np.mean([j[i]*2 (for j in e && e.index(j)%2==0)])\n",
    "    print([j[i] for j in e])\n",
    "    print(mean)\n",
    "#     print(j)\n"
   ]
  },
  {
   "cell_type": "code",
   "execution_count": 78,
   "metadata": {},
   "outputs": [
    {
     "name": "stdout",
     "output_type": "stream",
     "text": [
      "[2, 4]\n",
      "3.0\n",
      "[3, 5]\n",
      "4.0\n",
      "[4, 6]\n",
      "5.0\n"
     ]
    }
   ],
   "source": [
    "for i in range(len(e[0])):\n",
    "    \n",
    "\n",
    "    y=[2*i+1 for i in range(int(len(e)/2))]\n",
    "#     print(y)\n",
    "    mean=np.mean([e[j][i] for j in y])\n",
    "    print([e[j][i] for j in y])\n",
    "    print(mean)\n",
    "#     print(j)\n"
   ]
  },
  {
   "cell_type": "code",
   "execution_count": 73,
   "metadata": {},
   "outputs": [
    {
     "data": {
      "text/plain": [
       "float"
      ]
     },
     "execution_count": 73,
     "metadata": {},
     "output_type": "execute_result"
    }
   ],
   "source": [
    "type(len(e)/2)"
   ]
  },
  {
   "cell_type": "code",
   "execution_count": 2,
   "metadata": {},
   "outputs": [],
   "source": [
    "import pandas as pd # 引用套件並縮寫為 pd  \n",
    "import numpy as np\n",
    "import matplotlib.pyplot as plt\n",
    "import sklearn\n",
    "import math\n",
    "\n",
    "from sklearn.model_selection import train_test_split       #split data\n",
    "from sklearn.experimental import enable_iterative_imputer  #deal with missing data\n",
    "from sklearn.impute import IterativeImputer                #deal with missing data\n",
    "from sklearn.model_selection import KFold                  #deal with validation\n",
    "from sklearn.model_selection import ShuffleSplit\n",
    "from sklearn.model_selection import train_test_split\n",
    "\n",
    "from sklearn.svm import SVR\n",
    "from sklearn.neural_network import MLPRegressor\n",
    "from sklearn.datasets import make_regression\n",
    "\n",
    "import seaborn as sns                                      #deal with heatmap"
   ]
  },
  {
   "cell_type": "code",
   "execution_count": 2,
   "metadata": {},
   "outputs": [],
   "source": [
    "df99 = pd.read_csv('akari_data_Herschel.csv')\n",
    "flux=['col5','col7','col9','col11','col13','col25','col28','col31','col34','col37','col40','col43','col46','col49','col56','col58',\n",
    "      'col60','col63','col65','col67','col69','col71','col77','col80','col83','col86','col89','col93','col104','col106','col108','col110',\n",
    "     'col113','col115','col117','col119','col121','col123','col125','col127','col129','col131']\n",
    "\n",
    "flux.remove('col56'),flux.remove('col58'),flux.remove('col60')\n",
    "flux.remove('col63'),flux.remove('col65'),flux.remove('col67'),flux.remove('col69'),flux.remove('col71')\n",
    "flux.remove('col77'),flux.remove('col80')\n",
    "flux.remove('col83'),flux.remove('col86'),flux.remove('col89')\n",
    "flux.remove('col93'),flux.remove('col108'),flux.remove('col110')\n",
    "flux.remove('col117'),flux.remove('col119'),flux.remove('col121')\n",
    "flux.remove('col123'),flux.remove('col125')\n",
    "#rename the data column and resorot the data\n",
    "\n",
    "df_flux = df99[flux]\n",
    "# df_flux.to_csv('akari_data')"
   ]
  },
  {
   "cell_type": "code",
   "execution_count": 3,
   "metadata": {},
   "outputs": [],
   "source": [
    "X=np.arange(40).reshape((20,2))\n",
    "y=range(20)"
   ]
  },
  {
   "cell_type": "code",
   "execution_count": 35,
   "metadata": {},
   "outputs": [],
   "source": [
    "X_train, X_test, y_train, y_test = train_test_split(\n",
    "    X, y, test_size=0.2,random_state=1)"
   ]
  },
  {
   "cell_type": "code",
   "execution_count": 36,
   "metadata": {},
   "outputs": [
    {
     "data": {
      "text/plain": [
       "array([[ 4,  5],\n",
       "       [28, 29],\n",
       "       [ 8,  9],\n",
       "       [34, 35],\n",
       "       [14, 15],\n",
       "       [ 2,  3],\n",
       "       [26, 27],\n",
       "       [ 0,  1],\n",
       "       [38, 39],\n",
       "       [36, 37],\n",
       "       [18, 19],\n",
       "       [30, 31],\n",
       "       [16, 17],\n",
       "       [24, 25],\n",
       "       [22, 23],\n",
       "       [10, 11]])"
      ]
     },
     "execution_count": 36,
     "metadata": {},
     "output_type": "execute_result"
    }
   ],
   "source": [
    "X_train"
   ]
  },
  {
   "cell_type": "code",
   "execution_count": 24,
   "metadata": {},
   "outputs": [
    {
     "name": "stdout",
     "output_type": "stream",
     "text": [
      "0\n",
      "1\n",
      "2\n",
      "3\n",
      "4\n"
     ]
    }
   ],
   "source": [
    "for i in range(5):\n",
    "    print(i)"
   ]
  },
  {
   "cell_type": "code",
   "execution_count": 56,
   "metadata": {},
   "outputs": [
    {
     "name": "stdout",
     "output_type": "stream",
     "text": [
      "[[ 0  1]\n",
      " [ 2  3]\n",
      " [ 4  5]\n",
      " [ 6  7]\n",
      " [ 8  9]\n",
      " [10 11]\n",
      " [12 13]\n",
      " [14 15]\n",
      " [16 17]\n",
      " [18 19]\n",
      " [20 21]\n",
      " [22 23]\n",
      " [24 25]\n",
      " [26 27]\n",
      " [28 29]\n",
      " [30 31]\n",
      " [32 33]\n",
      " [34 35]]\n"
     ]
    }
   ],
   "source": [
    "print(X[:-2])"
   ]
  },
  {
   "cell_type": "code",
   "execution_count": null,
   "metadata": {},
   "outputs": [],
   "source": []
  }
 ],
 "metadata": {
  "kernelspec": {
   "display_name": "Python 3",
   "language": "python",
   "name": "python3"
  },
  "language_info": {
   "codemirror_mode": {
    "name": "ipython",
    "version": 3
   },
   "file_extension": ".py",
   "mimetype": "text/x-python",
   "name": "python",
   "nbconvert_exporter": "python",
   "pygments_lexer": "ipython3",
   "version": "3.7.3"
  }
 },
 "nbformat": 4,
 "nbformat_minor": 4
}
